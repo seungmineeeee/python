{
  "nbformat": 4,
  "nbformat_minor": 0,
  "metadata": {
    "colab": {
      "provenance": [],
      "collapsed_sections": [],
      "authorship_tag": "ABX9TyNtda0kupIfrMubcdlKRlfe",
      "include_colab_link": true
    },
    "kernelspec": {
      "name": "python3",
      "display_name": "Python 3"
    },
    "language_info": {
      "name": "python"
    }
  },
  "cells": [
    {
      "cell_type": "markdown",
      "metadata": {
        "id": "view-in-github",
        "colab_type": "text"
      },
      "source": [
        "<a href=\"https://colab.research.google.com/github/seungmineeeee/python/blob/main/%EB%85%BC%ED%94%84_%EA%B3%BC%EC%A0%9C3_1.ipynb\" target=\"_parent\"><img src=\"https://colab.research.google.com/assets/colab-badge.svg\" alt=\"Open In Colab\"/></a>"
      ]
    },
    {
      "cell_type": "code",
      "execution_count": null,
      "metadata": {
        "colab": {
          "base_uri": "https://localhost:8080/"
        },
        "id": "afAj9rS424f7",
        "outputId": "35eea280-e598-4698-d452-6400b4fef2f0"
      },
      "outputs": [
        {
          "output_type": "stream",
          "name": "stdout",
          "text": [
            "x=5\n",
            "y=5\n",
            "1\n",
            "x와 y는 같은 숫자이다.\n"
          ]
        }
      ],
      "source": [
        "##1번\n",
        "\n",
        "def f(a,b):\n",
        "  if b%a==0:\n",
        "    print(1)\n",
        "  elif a%b==0:\n",
        "    print(1)\n",
        "  else:\n",
        "    print(0)\n",
        "\n",
        "x=int(input('x='))\n",
        "y=int(input('y='))\n",
        "f(x,y)\n",
        "\n",
        "\n",
        "if x==y:\n",
        "  print(\"x와 y는 같은 숫자이다.\") \n",
        "elif y%x==0:\n",
        "  print(\"x는 y의 약수이지만, y가 아니다.\")\n",
        "elif x%y==0:\n",
        "  print(\"y는 x의 약수이지만, x가 아니다.\")\n",
        "else:\n",
        " print(\"x와 y는 서로의 약수가 아니다.\")"
      ]
    }
  ]
}