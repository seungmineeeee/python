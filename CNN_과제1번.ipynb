{
  "nbformat": 4,
  "nbformat_minor": 0,
  "metadata": {
    "colab": {
      "provenance": [],
      "include_colab_link": true
    },
    "kernelspec": {
      "name": "python3",
      "display_name": "Python 3"
    },
    "language_info": {
      "name": "python"
    },
    "accelerator": "GPU",
    "gpuClass": "standard"
  },
  "cells": [
    {
      "cell_type": "markdown",
      "metadata": {
        "id": "view-in-github",
        "colab_type": "text"
      },
      "source": [
        "<a href=\"https://colab.research.google.com/github/seungmineeeee/python/blob/main/CNN_%EA%B3%BC%EC%A0%9C1%EB%B2%88.ipynb\" target=\"_parent\"><img src=\"https://colab.research.google.com/assets/colab-badge.svg\" alt=\"Open In Colab\"/></a>"
      ]
    },
    {
      "cell_type": "code",
      "execution_count": null,
      "metadata": {
        "colab": {
          "base_uri": "https://localhost:8080/"
        },
        "id": "RUXEm7WZGmpY",
        "outputId": "cd6bee00-ff8b-4f9d-f295-aea6877ef1eb"
      },
      "outputs": [
        {
          "output_type": "stream",
          "name": "stdout",
          "text": [
            "Downloading data from https://storage.googleapis.com/tensorflow/tf-keras-datasets/train-labels-idx1-ubyte.gz\n",
            "29515/29515 [==============================] - 0s 0us/step\n",
            "Downloading data from https://storage.googleapis.com/tensorflow/tf-keras-datasets/train-images-idx3-ubyte.gz\n",
            "26421880/26421880 [==============================] - 2s 0us/step\n",
            "Downloading data from https://storage.googleapis.com/tensorflow/tf-keras-datasets/t10k-labels-idx1-ubyte.gz\n",
            "5148/5148 [==============================] - 0s 0us/step\n",
            "Downloading data from https://storage.googleapis.com/tensorflow/tf-keras-datasets/t10k-images-idx3-ubyte.gz\n",
            "4422102/4422102 [==============================] - 0s 0us/step\n"
          ]
        }
      ],
      "source": [
        "import tensorflow as tf\n",
        "import matplotlib.pyplot as plt\n",
        "import numpy as np\n",
        "\n",
        "\n",
        "fashion_mnist = tf.keras.datasets.fashion_mnist\n",
        "\n",
        "(x_train, y_train), (x_test, y_test) = fashion_mnist.load_data()"
      ]
    },
    {
      "cell_type": "code",
      "source": [
        "type(x_train)"
      ],
      "metadata": {
        "colab": {
          "base_uri": "https://localhost:8080/"
        },
        "id": "nmDGBQ0OGxTs",
        "outputId": "03c6e615-2b6f-4cb3-912e-e124b72797ff"
      },
      "execution_count": null,
      "outputs": [
        {
          "output_type": "execute_result",
          "data": {
            "text/plain": [
              "numpy.ndarray"
            ]
          },
          "metadata": {},
          "execution_count": 2
        }
      ]
    },
    {
      "cell_type": "code",
      "source": [
        "x_train.shape"
      ],
      "metadata": {
        "colab": {
          "base_uri": "https://localhost:8080/"
        },
        "id": "zK2GoJoZI6-c",
        "outputId": "73cc8051-a6d3-42a9-a96f-59e09f600642"
      },
      "execution_count": null,
      "outputs": [
        {
          "output_type": "execute_result",
          "data": {
            "text/plain": [
              "(60000, 28, 28)"
            ]
          },
          "metadata": {},
          "execution_count": 3
        }
      ]
    },
    {
      "cell_type": "code",
      "source": [
        "plt.imshow(x_train[5], cmap='Greys')\n",
        "plt.show()"
      ],
      "metadata": {
        "colab": {
          "base_uri": "https://localhost:8080/",
          "height": 265
        },
        "id": "aTzxc-UYKseB",
        "outputId": "1de7b57c-d16e-48ad-86b0-8c102413d8f6"
      },
      "execution_count": null,
      "outputs": [
        {
          "output_type": "display_data",
          "data": {
            "text/plain": [
              "<Figure size 432x288 with 1 Axes>"
            ],
            "image/png": "[encoded data removed]"
          },
          "metadata": {
            "needs_background": "light"
          }
        }
      ]
    },
    {
      "cell_type": "code",
      "source": [
        "y_test[0:50]"
      ],
      "metadata": {
        "colab": {
          "base_uri": "https://localhost:8080/"
        },
        "id": "sxQyFc3j4ze3",
        "outputId": "1297f806-d3c5-4bf8-8c84-1efca04c946c"
      },
      "execution_count": null,
      "outputs": [
        {
          "output_type": "execute_result",
          "data": {
            "text/plain": [
              "array([9, 2, 1, 1, 6, 1, 4, 6, 5, 7, 4, 5, 7, 3, 4, 1, 2, 4, 8, 0, 2, 5,\n",
              "       7, 9, 1, 4, 6, 0, 9, 3, 8, 8, 3, 3, 8, 0, 7, 5, 7, 9, 6, 1, 3, 7,\n",
              "       6, 7, 2, 1, 2, 2], dtype=uint8)"
            ]
          },
          "metadata": {},
          "execution_count": 5
        }
      ]
    },
    {
      "cell_type": "code",
      "source": [
        "import sys\n",
        "\n",
        "for x in x_train[5]:\n",
        "    for i in x:\n",
        "        sys.stdout.write(\"%-3s\" % i)\n",
        "    sys.stdout.write('\\n')"
      ],
      "metadata": {
        "colab": {
          "base_uri": "https://localhost:8080/"
        },
        "id": "T7DCj93n_v11",
        "outputId": "9f179856-72a9-43ae-d900-e1669f331e11"
      },
      "execution_count": null,
      "outputs": [
        {
          "output_type": "stream",
          "name": "stdout",
          "text": [
            "0  0  0  0  1  0  0  0  0  22 88 1881721321251411991439  0  0  0  1  0  0  0  0  0  \n",
            "0  0  0  1  0  0  20 13119920619620224225525525022219720618812617 0  0  0  0  0  0  \n",
            "0  0  0  1  0  35 21419118317817516815016215915215817918318919518582 0  0  0  0  0  \n",
            "0  0  0  0  0  17019017217717617116916215514815416917417517517718318812 0  0  0  0  \n",
            "0  0  0  0  25 19418017817418418718918718418118920019719319017817519490 0  0  0  0  \n",
            "0  0  0  0  42 2181911972082042112092102122112142152132142112111912001580  0  0  0  \n",
            "0  0  0  0  88 22121521721921118515011810799 88 83 90 1352122032072191690  0  0  0  \n",
            "0  0  0  0  0  27 11816240 0  0  0  10 19 28 39 47 36 0  0  2032302202030  0  0  0  \n",
            "0  0  0  0  13813671 69 54 21621720318416816316216317822118638 26 7  0  0  0  0  0  \n",
            "0  0  0  0  67 13415422412966 81 11712912813213713112986 73 15715113421618 0  0  0  \n",
            "0  0  0  0  20319817218320625525525024324023923523824425523818416086 98 0  0  0  0  \n",
            "0  0  0  0  12218822415110512797 10010511411711711310398 11114225419125549 0  0  0  \n",
            "0  0  0  0  16317920095 15419819720020019819719819920220017686 20615716210 0  0  0  \n",
            "0  0  0  0  19720122971 14419418118317918218017918019018519776 21918520134 0  0  0  \n",
            "0  0  0  0  19919322658 15419218418718418618418518319219120056 21920320760 0  0  0  \n",
            "0  0  0  0  20119422441 16319018618618418518318517819019420233 21120020673 0  0  0  \n",
            "0  0  0  0  20119722217 17219018618718218618518718018719320226 21220220376 0  0  0  \n",
            "0  0  0  0  2001972230  17718918418517818418318418018318920335 19620320384 0  0  0  \n",
            "0  0  0  0  2001972230  18518718518718018418218317818218320544 15920720185 0  0  0  \n",
            "0  0  0  0  1871982250  19418818418518018318318418118117720646 12921120088 0  0  0  \n",
            "0  0  0  6  1862002110  19918918418418518218318418518217520550 97 21619793 0  0  0  \n",
            "0  0  0  5  1852041840  20218818218218318318418218018217420263 59 22019694 0  0  0  \n",
            "0  0  0  5  1842061570  20418718718919219019019119018718320278 35 22219795 0  0  0  \n",
            "0  0  0  5  1832081270  19716615314914914614814915015115819190 8  22319599 0  0  0  \n",
            "0  0  0  6  1842081140  2041731611801761721731731741761622021150  2291991050  0  0  \n",
            "0  0  0  9  1782041150  12113511411711411411711811911711314763 0  2251961070  0  0  \n",
            "0  0  0  18 1802061310  0  0  0  0  0  0  0  0  0  0  0  0  0  0  2241971230  0  0  \n",
            "0  0  0  0  14115176 0  1  1  0  0  0  0  0  0  0  0  0  0  0  0  13316773 0  0  0  \n"
          ]
        }
      ]
    },
    {
      "cell_type": "code",
      "source": [
        "from tensorflow.keras.models import Sequential\n",
        "from tensorflow.keras.layers import Dense, Dropout, Flatten, Conv2D, MaxPooling2D\n",
        "from tensorflow.keras.callbacks import ModelCheckpoint,EarlyStopping\n",
        "from tensorflow.keras.datasets import mnist\n",
        "from tensorflow.keras.utils import to_categorical\n"
      ],
      "metadata": {
        "id": "HibSq9QxAxUH"
      },
      "execution_count": null,
      "outputs": []
    },
    {
      "cell_type": "code",
      "source": [
        "x_train = x_train.reshape(x_train.shape[0], 28, 28, 1).astype('float32') / 255\n",
        "X_test = x_test.reshape(x_test.shape[0], 28, 28, 1).astype('float32') / 255\n",
        "y_train = to_categorical(y_train)\n",
        "y_test = to_categorical(y_test)"
      ],
      "metadata": {
        "id": "WYHxYEalDrp3"
      },
      "execution_count": null,
      "outputs": []
    },
    {
      "cell_type": "code",
      "source": [
        "# 컨볼루션 신경망의 설정\n",
        "model = Sequential()\n",
        "model.add(Conv2D(32, kernel_size=(4, 4), input_shape=(28, 28, 1), activation='relu'))\n",
        "model.add(Conv2D(64, (4, 4), activation='relu'))\n",
        "model.add(MaxPooling2D(pool_size=(3,3)))\n",
        "model.add(Dropout(0.2))\n",
        "model.add(Flatten())\n",
        "model.add(Dense(128,  activation='relu'))\n",
        "model.add(Dropout(0.15))\n",
        "model.add(Dense(10, activation='softmax'))\n",
        "\n",
        "# 모델의 실행 옵션을 설정합니다.\n",
        "model.compile(loss='categorical_crossentropy',\n",
        "              optimizer='adam',\n",
        "              metrics=['accuracy'])\n",
        "\n",
        "# 모델 최적화를 위한 설정 구간입니다.\n",
        "\n",
        "#MODEL_DIR = './data/model/'\n",
        "#if not os.path.exists(MODEL_DIR):\n",
        "#    os.mkdir(MODEL_DIR)\n",
        "\n",
        "modelpath=\"./data/model/MNIST_CNN.hdf5\"\n",
        "\n",
        "\n",
        "checkpointer = ModelCheckpoint(filepath=modelpath, monitor='val_loss', verbose=1, save_best_only=True)\n",
        "early_stopping_callback = EarlyStopping(monitor='val_loss', patience=10)\n",
        "\n",
        "# 모델을 실행합니다.\n",
        "history = model.fit(x_train, y_train, validation_split=0.25, epochs=20, batch_size=150, verbose=0, callbacks=[early_stopping_callback,checkpointer])\n",
        "\n",
        "# 테스트 정확도를 출력합니다.\n",
        "print(\"\\n Test Accuracy: %.4f\" % (model.evaluate(x_test, y_test)[1]))"
      ],
      "metadata": {
        "colab": {
          "base_uri": "https://localhost:8080/"
        },
        "id": "owuaQ2UHAQiM",
        "outputId": "81314840-8475-424f-c7ae-486e5684a4df"
      },
      "execution_count": null,
      "outputs": [
        {
          "output_type": "stream",
          "name": "stdout",
          "text": [
            "\n",
            "Epoch 1: val_loss improved from inf to 0.36472, saving model to ./data/model/MNIST_CNN.hdf5\n",
            "\n",
            "Epoch 2: val_loss improved from 0.36472 to 0.30241, saving model to ./data/model/MNIST_CNN.hdf5\n",
            "\n",
            "Epoch 3: val_loss improved from 0.30241 to 0.29586, saving model to ./data/model/MNIST_CNN.hdf5\n",
            "\n",
            "Epoch 4: val_loss improved from 0.29586 to 0.26196, saving model to ./data/model/MNIST_CNN.hdf5\n",
            "\n",
            "Epoch 5: val_loss improved from 0.26196 to 0.25404, saving model to ./data/model/MNIST_CNN.hdf5\n",
            "\n",
            "Epoch 6: val_loss improved from 0.25404 to 0.23405, saving model to ./data/model/MNIST_CNN.hdf5\n",
            "\n",
            "Epoch 7: val_loss did not improve from 0.23405\n",
            "\n",
            "Epoch 8: val_loss improved from 0.23405 to 0.22391, saving model to ./data/model/MNIST_CNN.hdf5\n",
            "\n",
            "Epoch 9: val_loss did not improve from 0.22391\n",
            "\n",
            "Epoch 10: val_loss improved from 0.22391 to 0.22273, saving model to ./data/model/MNIST_CNN.hdf5\n",
            "\n",
            "Epoch 11: val_loss did not improve from 0.22273\n",
            "\n",
            "Epoch 12: val_loss improved from 0.22273 to 0.21952, saving model to ./data/model/MNIST_CNN.hdf5\n",
            "\n",
            "Epoch 13: val_loss did not improve from 0.21952\n",
            "\n",
            "Epoch 14: val_loss did not improve from 0.21952\n",
            "\n",
            "Epoch 15: val_loss did not improve from 0.21952\n",
            "\n",
            "Epoch 16: val_loss did not improve from 0.21952\n",
            "\n",
            "Epoch 17: val_loss did not improve from 0.21952\n",
            "\n",
            "Epoch 18: val_loss did not improve from 0.21952\n",
            "\n",
            "Epoch 19: val_loss did not improve from 0.21952\n",
            "\n",
            "Epoch 20: val_loss did not improve from 0.21952\n",
            "313/313 [==============================] - 1s 3ms/step - loss: 63.3906 - accuracy: 0.8695\n",
            "\n",
            " Test Accuracy: 0.8695\n"
          ]
        }
      ]
    },
    {
      "cell_type": "code",
      "source": [
        "# 검증셋과 학습셋의 오차를 그래프로 표현\n",
        "y_vloss = history.history['val_loss']\n",
        "y_loss = history.history['loss']\n",
        "\n",
        "x_len = np.arange(len(y_loss))\n",
        "plt.plot(x_len, y_vloss, marker='.', c=\"red\", label='Testset_loss')\n",
        "plt.plot(x_len, y_loss, marker='.', c=\"blue\", label='Trainset_loss')\n",
        "\n",
        "\n",
        "plt.legend(loc='upper right')\n",
        "plt.grid()\n",
        "plt.xlabel('epoch')\n",
        "plt.ylabel('loss')\n",
        "plt.show()"
      ],
      "metadata": {
        "colab": {
          "base_uri": "https://localhost:8080/",
          "height": 279
        },
        "id": "u6vFhECbEBUz",
        "outputId": "72253e9e-db9e-4ca3-9828-6d646a4377d4"
      },
      "execution_count": null,
      "outputs": [
        {
          "output_type": "display_data",
          "data": {
            "text/plain": [
              "<Figure size 432x288 with 1 Axes>"
            ],
            "image/png": "[encoded data removed]"
          },
          "metadata": {
            "needs_background": "light"
          }
        }
      ]
    }
  ]
}