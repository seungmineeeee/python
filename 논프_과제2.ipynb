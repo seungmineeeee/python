{
  "nbformat": 4,
  "nbformat_minor": 0,
  "metadata": {
    "colab": {
      "provenance": [],
      "collapsed_sections": [],
      "authorship_tag": "ABX9TyPr+SFy5rrAdjYII3hb4aio",
      "include_colab_link": true
    },
    "kernelspec": {
      "name": "python3",
      "display_name": "Python 3"
    },
    "language_info": {
      "name": "python"
    }
  },
  "cells": [
    {
      "cell_type": "markdown",
      "metadata": {
        "id": "view-in-github",
        "colab_type": "text"
      },
      "source": [
        "<a href=\"https://colab.research.google.com/github/seungmineeeee/python/blob/main/%EB%85%BC%ED%94%84_%EA%B3%BC%EC%A0%9C2.ipynb\" target=\"_parent\"><img src=\"https://colab.research.google.com/assets/colab-badge.svg\" alt=\"Open In Colab\"/></a>"
      ]
    },
    {
      "cell_type": "code",
      "source": [
        "## 1번 과제\n",
        "count=0\n",
        "number_list=[]\n",
        "n=int(input(\"자연수 한 개를 입력하세요: \"))\n",
        "number_list.append(n)\n",
        "while count<=98:\n",
        "  count+=1\n",
        "  \n",
        "  n=input(\"계속 입력을 원하시면, 자연수 한 개를 입력하시고, 아니라면 0을 입력하세요: \")\n",
        "  number_list.append(n)\n",
        "  for i in range(len(number_list)):\n",
        "    for j in range(len(number_list)):\n",
        "      if int(number_list[i])>int(number_list[j]):\n",
        "        number_list[j],number_list[i]=number_list[i],number_list[j]\n",
        "\n",
        "  if int(n)==int(0):\n",
        "    break\n",
        "\n",
        "  elif count==99:\n",
        "    print(\"이제 그만하세요. 벌써 100개를 입력했어요.\")\n",
        "    break\n",
        "\n",
        "print()\n",
        "print(\"당신이 입력한 숫자는 큰 것부터 순서대로 말한다면 아래와 같습니다.\")\n",
        "print(number_list)"
      ],
      "metadata": {
        "id": "-QAX1aYHXH_q"
      },
      "execution_count": null,
      "outputs": []
    },
    {
      "cell_type": "code",
      "source": [
        "## 2번 과제\n",
        "n=int(input('30 이하의 정수를 입력하세요:'))\n",
        "if n<30:\n",
        "  a=0\n",
        "\n",
        "  while a<n:\n",
        "    a+=1\n",
        "    b=\"*\"*(a-1)\n",
        "    print(b,end='')\n",
        "    print(a)\n",
        "    \n",
        "else:\n",
        "  print(\"숫자가 너무 많습니다.\")"
      ],
      "metadata": {
        "id": "q1J3c2rhFC_c"
      },
      "execution_count": null,
      "outputs": []
    },
    {
      "cell_type": "code",
      "source": [],
      "metadata": {
        "id": "fSTgzmO0Y2OG"
      },
      "execution_count": null,
      "outputs": []
    }
  ]
}